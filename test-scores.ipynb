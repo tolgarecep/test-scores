{
 "cells": [
  {
   "cell_type": "markdown",
   "metadata": {},
   "source": [
    "<h2>Data Analysis and Machine Learning on Test Scores Dataset</h2>"
   ]
  },
  {
   "cell_type": "markdown",
   "metadata": {},
   "source": [
    "<h3>Data Analysis</h3>"
   ]
  },
  {
   "cell_type": "code",
   "execution_count": 1,
   "metadata": {},
   "outputs": [],
   "source": [
    "import pandas as pd\n",
    "import numpy as np\n",
    "import matplotlib.pyplot as plt\n",
    "import seaborn as sns\n",
    "from sklearn.model_selection import train_test_split"
   ]
  },
  {
   "cell_type": "markdown",
   "metadata": {},
   "source": [
    "Splitting data 80/20 for final evaluation"
   ]
  },
  {
   "cell_type": "code",
   "execution_count": 2,
   "metadata": {},
   "outputs": [
    {
     "data": {
      "text/html": [
       "<div>\n",
       "<style scoped>\n",
       "    .dataframe tbody tr th:only-of-type {\n",
       "        vertical-align: middle;\n",
       "    }\n",
       "\n",
       "    .dataframe tbody tr th {\n",
       "        vertical-align: top;\n",
       "    }\n",
       "\n",
       "    .dataframe thead th {\n",
       "        text-align: right;\n",
       "    }\n",
       "</style>\n",
       "<table border=\"1\" class=\"dataframe\">\n",
       "  <thead>\n",
       "    <tr style=\"text-align: right;\">\n",
       "      <th></th>\n",
       "      <th>school</th>\n",
       "      <th>school_setting</th>\n",
       "      <th>school_type</th>\n",
       "      <th>classroom</th>\n",
       "      <th>teaching_method</th>\n",
       "      <th>n_student</th>\n",
       "      <th>student_id</th>\n",
       "      <th>gender</th>\n",
       "      <th>lunch</th>\n",
       "      <th>pretest</th>\n",
       "      <th>posttest</th>\n",
       "    </tr>\n",
       "  </thead>\n",
       "  <tbody>\n",
       "    <tr>\n",
       "      <th>1018</th>\n",
       "      <td>VVTVA</td>\n",
       "      <td>Urban</td>\n",
       "      <td>Public</td>\n",
       "      <td>A93</td>\n",
       "      <td>Experimental</td>\n",
       "      <td>30.0</td>\n",
       "      <td>LBM49</td>\n",
       "      <td>Female</td>\n",
       "      <td>Qualifies for reduced/free lunch</td>\n",
       "      <td>35.0</td>\n",
       "      <td>49.0</td>\n",
       "    </tr>\n",
       "    <tr>\n",
       "      <th>634</th>\n",
       "      <td>KFZMY</td>\n",
       "      <td>Urban</td>\n",
       "      <td>Non-public</td>\n",
       "      <td>21Q</td>\n",
       "      <td>Standard</td>\n",
       "      <td>25.0</td>\n",
       "      <td>NS4LD</td>\n",
       "      <td>Female</td>\n",
       "      <td>Qualifies for reduced/free lunch</td>\n",
       "      <td>42.0</td>\n",
       "      <td>49.0</td>\n",
       "    </tr>\n",
       "    <tr>\n",
       "      <th>486</th>\n",
       "      <td>DNQDD</td>\n",
       "      <td>Suburban</td>\n",
       "      <td>Public</td>\n",
       "      <td>XXJ</td>\n",
       "      <td>Standard</td>\n",
       "      <td>27.0</td>\n",
       "      <td>8NGSI</td>\n",
       "      <td>Male</td>\n",
       "      <td>Qualifies for reduced/free lunch</td>\n",
       "      <td>65.0</td>\n",
       "      <td>68.0</td>\n",
       "    </tr>\n",
       "    <tr>\n",
       "      <th>1344</th>\n",
       "      <td>UKPGS</td>\n",
       "      <td>Suburban</td>\n",
       "      <td>Public</td>\n",
       "      <td>9AW</td>\n",
       "      <td>Standard</td>\n",
       "      <td>25.0</td>\n",
       "      <td>JSXAG</td>\n",
       "      <td>Female</td>\n",
       "      <td>Does not qualify</td>\n",
       "      <td>81.0</td>\n",
       "      <td>94.0</td>\n",
       "    </tr>\n",
       "    <tr>\n",
       "      <th>521</th>\n",
       "      <td>QOQTS</td>\n",
       "      <td>Urban</td>\n",
       "      <td>Public</td>\n",
       "      <td>X2O</td>\n",
       "      <td>Experimental</td>\n",
       "      <td>25.0</td>\n",
       "      <td>YS6D7</td>\n",
       "      <td>Male</td>\n",
       "      <td>Does not qualify</td>\n",
       "      <td>62.0</td>\n",
       "      <td>81.0</td>\n",
       "    </tr>\n",
       "  </tbody>\n",
       "</table>\n",
       "</div>"
      ],
      "text/plain": [
       "     school school_setting school_type classroom teaching_method  n_student  \\\n",
       "1018  VVTVA          Urban      Public       A93    Experimental       30.0   \n",
       "634   KFZMY          Urban  Non-public       21Q        Standard       25.0   \n",
       "486   DNQDD       Suburban      Public       XXJ        Standard       27.0   \n",
       "1344  UKPGS       Suburban      Public       9AW        Standard       25.0   \n",
       "521   QOQTS          Urban      Public       X2O    Experimental       25.0   \n",
       "\n",
       "     student_id  gender                             lunch  pretest  posttest  \n",
       "1018      LBM49  Female  Qualifies for reduced/free lunch     35.0      49.0  \n",
       "634       NS4LD  Female  Qualifies for reduced/free lunch     42.0      49.0  \n",
       "486       8NGSI    Male  Qualifies for reduced/free lunch     65.0      68.0  \n",
       "1344      JSXAG  Female                  Does not qualify     81.0      94.0  \n",
       "521       YS6D7    Male                  Does not qualify     62.0      81.0  "
      ]
     },
     "execution_count": 2,
     "metadata": {},
     "output_type": "execute_result"
    }
   ],
   "source": [
    "test_scores = pd.read_csv('test_scores.csv')\n",
    "test_scores = test_scores.sample(frac=1, random_state=0).reset_index(drop=True) # shuffling ordered data\n",
    "data_train, data_test = train_test_split(test_scores,test_size=.2,random_state=0)\n",
    "data = data_train # the set we'll explore\n",
    "data.head()"
   ]
  },
  {
   "cell_type": "markdown",
   "metadata": {},
   "source": [
    "Some features have ambigous definitions, so let me explain them: <br>\n",
    "n_student: number of students per classroom <br>\n",
    "teaching_method: teaching method of classroom"
   ]
  },
  {
   "cell_type": "code",
   "execution_count": 3,
   "metadata": {},
   "outputs": [
    {
     "name": "stdout",
     "output_type": "stream",
     "text": [
      "<class 'pandas.core.frame.DataFrame'>\n",
      "Int64Index: 1706 entries, 1018 to 1653\n",
      "Data columns (total 11 columns):\n",
      " #   Column           Non-Null Count  Dtype  \n",
      "---  ------           --------------  -----  \n",
      " 0   school           1706 non-null   object \n",
      " 1   school_setting   1706 non-null   object \n",
      " 2   school_type      1706 non-null   object \n",
      " 3   classroom        1706 non-null   object \n",
      " 4   teaching_method  1706 non-null   object \n",
      " 5   n_student        1706 non-null   float64\n",
      " 6   student_id       1706 non-null   object \n",
      " 7   gender           1706 non-null   object \n",
      " 8   lunch            1706 non-null   object \n",
      " 9   pretest          1706 non-null   float64\n",
      " 10  posttest         1706 non-null   float64\n",
      "dtypes: float64(3), object(8)\n",
      "memory usage: 159.9+ KB\n"
     ]
    }
   ],
   "source": [
    "data.info()"
   ]
  },
  {
   "cell_type": "markdown",
   "metadata": {},
   "source": [
    "2133 samples, 11 features (1 target) and no missing data. "
   ]
  },
  {
   "cell_type": "code",
   "execution_count": 4,
   "metadata": {},
   "outputs": [
    {
     "data": {
      "text/html": [
       "<div>\n",
       "<style scoped>\n",
       "    .dataframe tbody tr th:only-of-type {\n",
       "        vertical-align: middle;\n",
       "    }\n",
       "\n",
       "    .dataframe tbody tr th {\n",
       "        vertical-align: top;\n",
       "    }\n",
       "\n",
       "    .dataframe thead th {\n",
       "        text-align: right;\n",
       "    }\n",
       "</style>\n",
       "<table border=\"1\" class=\"dataframe\">\n",
       "  <thead>\n",
       "    <tr style=\"text-align: right;\">\n",
       "      <th></th>\n",
       "      <th>n_student</th>\n",
       "      <th>pretest</th>\n",
       "      <th>posttest</th>\n",
       "    </tr>\n",
       "  </thead>\n",
       "  <tbody>\n",
       "    <tr>\n",
       "      <th>count</th>\n",
       "      <td>1706.000000</td>\n",
       "      <td>1706.000000</td>\n",
       "      <td>1706.000000</td>\n",
       "    </tr>\n",
       "    <tr>\n",
       "      <th>mean</th>\n",
       "      <td>22.794842</td>\n",
       "      <td>54.733294</td>\n",
       "      <td>66.917351</td>\n",
       "    </tr>\n",
       "    <tr>\n",
       "      <th>std</th>\n",
       "      <td>4.268015</td>\n",
       "      <td>13.593332</td>\n",
       "      <td>13.981541</td>\n",
       "    </tr>\n",
       "    <tr>\n",
       "      <th>min</th>\n",
       "      <td>14.000000</td>\n",
       "      <td>22.000000</td>\n",
       "      <td>32.000000</td>\n",
       "    </tr>\n",
       "    <tr>\n",
       "      <th>25%</th>\n",
       "      <td>20.000000</td>\n",
       "      <td>44.000000</td>\n",
       "      <td>56.000000</td>\n",
       "    </tr>\n",
       "    <tr>\n",
       "      <th>50%</th>\n",
       "      <td>22.000000</td>\n",
       "      <td>55.000000</td>\n",
       "      <td>68.000000</td>\n",
       "    </tr>\n",
       "    <tr>\n",
       "      <th>75%</th>\n",
       "      <td>27.000000</td>\n",
       "      <td>64.750000</td>\n",
       "      <td>77.000000</td>\n",
       "    </tr>\n",
       "    <tr>\n",
       "      <th>max</th>\n",
       "      <td>31.000000</td>\n",
       "      <td>93.000000</td>\n",
       "      <td>100.000000</td>\n",
       "    </tr>\n",
       "  </tbody>\n",
       "</table>\n",
       "</div>"
      ],
      "text/plain": [
       "         n_student      pretest     posttest\n",
       "count  1706.000000  1706.000000  1706.000000\n",
       "mean     22.794842    54.733294    66.917351\n",
       "std       4.268015    13.593332    13.981541\n",
       "min      14.000000    22.000000    32.000000\n",
       "25%      20.000000    44.000000    56.000000\n",
       "50%      22.000000    55.000000    68.000000\n",
       "75%      27.000000    64.750000    77.000000\n",
       "max      31.000000    93.000000   100.000000"
      ]
     },
     "execution_count": 4,
     "metadata": {},
     "output_type": "execute_result"
    }
   ],
   "source": [
    "data.describe()"
   ]
  },
  {
   "cell_type": "markdown",
   "metadata": {},
   "source": [
    "Students did better at posttest. 75% of students scored less than or equal to 64 at pretest and 77 at posttest. No one scored 100 at pretest, and..."
   ]
  },
  {
   "cell_type": "code",
   "execution_count": 5,
   "metadata": {},
   "outputs": [
    {
     "data": {
      "text/plain": [
       "7"
      ]
     },
     "execution_count": 5,
     "metadata": {},
     "output_type": "execute_result"
    }
   ],
   "source": [
    "data[data.posttest == 100].shape[0]"
   ]
  },
  {
   "cell_type": "markdown",
   "metadata": {},
   "source": [
    "7 students scored 100 at posttest."
   ]
  },
  {
   "cell_type": "code",
   "execution_count": 6,
   "metadata": {},
   "outputs": [
    {
     "data": {
      "text/plain": [
       "<seaborn.axisgrid.PairGrid at 0x2872c0ea1f0>"
      ]
     },
     "execution_count": 6,
     "metadata": {},
     "output_type": "execute_result"
    },
    {
     "data": {
      "image/png": "[encoded data removed]",
      "text/plain": [
       "<Figure size 540x540 with 12 Axes>"
      ]
     },
     "metadata": {
      "needs_background": "light"
     },
     "output_type": "display_data"
    }
   ],
   "source": [
    "sns.pairplot(data)"
   ]
  },
  {
   "cell_type": "markdown",
   "metadata": {},
   "source": [
    "pretest and posttest are highly correlated and n_student seem to have negative correlation with pretest & posttest."
   ]
  },
  {
   "cell_type": "code",
   "execution_count": 7,
   "metadata": {},
   "outputs": [
    {
     "data": {
      "text/plain": [
       "([<matplotlib.patches.Wedge at 0x2872c92cd60>,\n",
       "  <matplotlib.patches.Wedge at 0x2872c9371f0>],\n",
       " [Text(-0.02430579362154559, 1.0997314346677678, ''),\n",
       "  Text(0.02430579362154545, -1.0997314346677678, '')])"
      ]
     },
     "execution_count": 7,
     "metadata": {},
     "output_type": "execute_result"
    },
    {
     "data": {
      "image/png": "[encoded data removed]",
      "text/plain": [
       "<Figure size 432x288 with 1 Axes>"
      ]
     },
     "metadata": {},
     "output_type": "display_data"
    }
   ],
   "source": [
    "plt.pie(data.gender.value_counts())"
   ]
  },
  {
   "cell_type": "markdown",
   "metadata": {},
   "source": [
    "Gender distribution is not skewed."
   ]
  },
  {
   "cell_type": "markdown",
   "metadata": {},
   "source": [
    "<h4>School</h4>"
   ]
  },
  {
   "cell_type": "code",
   "execution_count": 8,
   "metadata": {},
   "outputs": [
    {
     "data": {
      "text/plain": [
       "23"
      ]
     },
     "execution_count": 8,
     "metadata": {},
     "output_type": "execute_result"
    }
   ],
   "source": [
    "data.school.value_counts().shape[0]"
   ]
  },
  {
   "cell_type": "markdown",
   "metadata": {},
   "source": [
    "Therea are 23 schools in total:"
   ]
  },
  {
   "cell_type": "code",
   "execution_count": 9,
   "metadata": {},
   "outputs": [
    {
     "data": {
      "text/plain": [
       "15"
      ]
     },
     "execution_count": 9,
     "metadata": {},
     "output_type": "execute_result"
    }
   ],
   "source": [
    "data.school[data.school_type == 'Public'].value_counts().shape[0]"
   ]
  },
  {
   "cell_type": "code",
   "execution_count": 10,
   "metadata": {},
   "outputs": [
    {
     "data": {
      "text/plain": [
       "8"
      ]
     },
     "execution_count": 10,
     "metadata": {},
     "output_type": "execute_result"
    }
   ],
   "source": [
    "data.school[data.school_type == 'Non-public'].value_counts().shape[0]"
   ]
  },
  {
   "cell_type": "markdown",
   "metadata": {},
   "source": [
    "15 public and 8 non-public, and..."
   ]
  },
  {
   "cell_type": "code",
   "execution_count": 11,
   "metadata": {},
   "outputs": [
    {
     "data": {
      "text/plain": [
       "7"
      ]
     },
     "execution_count": 11,
     "metadata": {},
     "output_type": "execute_result"
    }
   ],
   "source": [
    "data.school[data.school_setting == 'Suburban'].value_counts().shape[0]"
   ]
  },
  {
   "cell_type": "code",
   "execution_count": 12,
   "metadata": {},
   "outputs": [
    {
     "data": {
      "text/plain": [
       "9"
      ]
     },
     "execution_count": 12,
     "metadata": {},
     "output_type": "execute_result"
    }
   ],
   "source": [
    "data.school[data.school_setting == 'Urban'].value_counts().shape[0]"
   ]
  },
  {
   "cell_type": "code",
   "execution_count": 13,
   "metadata": {},
   "outputs": [
    {
     "data": {
      "text/plain": [
       "7"
      ]
     },
     "execution_count": 13,
     "metadata": {},
     "output_type": "execute_result"
    }
   ],
   "source": [
    "data.school[data.school_setting == 'Rural'].value_counts().shape[0]"
   ]
  },
  {
   "cell_type": "markdown",
   "metadata": {},
   "source": [
    "7 in suburban, 9 in urban, and 7 in rural."
   ]
  },
  {
   "cell_type": "markdown",
   "metadata": {},
   "source": [
    "Student population and gender distribution:"
   ]
  },
  {
   "cell_type": "code",
   "execution_count": 14,
   "metadata": {},
   "outputs": [
    {
     "data": {
      "image/png": "[encoded data removed]",
      "text/plain": [
       "<Figure size 1008x432 with 1 Axes>"
      ]
     },
     "metadata": {
      "needs_background": "light"
     },
     "output_type": "display_data"
    }
   ],
   "source": [
    "plt.subplots(figsize=(14, 6))\n",
    "sns.histplot(data, x='school', hue=\"gender\", multiple=\"dodge\", shrink=.8).tick_params(labelsize=8.1)"
   ]
  },
  {
   "cell_type": "markdown",
   "metadata": {},
   "source": [
    "Number of classrooms and average number of students per classroom in a school:"
   ]
  },
  {
   "cell_type": "code",
   "execution_count": 56,
   "metadata": {},
   "outputs": [
    {
     "data": {
      "text/html": [
       "<div>\n",
       "<style scoped>\n",
       "    .dataframe tbody tr th:only-of-type {\n",
       "        vertical-align: middle;\n",
       "    }\n",
       "\n",
       "    .dataframe tbody tr th {\n",
       "        vertical-align: top;\n",
       "    }\n",
       "\n",
       "    .dataframe thead th {\n",
       "        text-align: right;\n",
       "    }\n",
       "</style>\n",
       "<table border=\"1\" class=\"dataframe\">\n",
       "  <thead>\n",
       "    <tr style=\"text-align: right;\">\n",
       "      <th></th>\n",
       "      <th>classroom</th>\n",
       "    </tr>\n",
       "    <tr>\n",
       "      <th>school</th>\n",
       "      <th></th>\n",
       "    </tr>\n",
       "  </thead>\n",
       "  <tbody>\n",
       "    <tr>\n",
       "      <th>ANKYI</th>\n",
       "      <td>34</td>\n",
       "    </tr>\n",
       "    <tr>\n",
       "      <th>CCAAW</th>\n",
       "      <td>87</td>\n",
       "    </tr>\n",
       "    <tr>\n",
       "      <th>CIMBB</th>\n",
       "      <td>62</td>\n",
       "    </tr>\n",
       "    <tr>\n",
       "      <th>CUQAM</th>\n",
       "      <td>80</td>\n",
       "    </tr>\n",
       "    <tr>\n",
       "      <th>DNQDD</th>\n",
       "      <td>94</td>\n",
       "    </tr>\n",
       "    <tr>\n",
       "      <th>FBUMG</th>\n",
       "      <td>39</td>\n",
       "    </tr>\n",
       "    <tr>\n",
       "      <th>GJJHK</th>\n",
       "      <td>92</td>\n",
       "    </tr>\n",
       "    <tr>\n",
       "      <th>GOKXL</th>\n",
       "      <td>53</td>\n",
       "    </tr>\n",
       "    <tr>\n",
       "      <th>GOOBU</th>\n",
       "      <td>133</td>\n",
       "    </tr>\n",
       "    <tr>\n",
       "      <th>IDGFP</th>\n",
       "      <td>79</td>\n",
       "    </tr>\n",
       "    <tr>\n",
       "      <th>KFZMY</th>\n",
       "      <td>42</td>\n",
       "    </tr>\n",
       "    <tr>\n",
       "      <th>KZKKE</th>\n",
       "      <td>88</td>\n",
       "    </tr>\n",
       "    <tr>\n",
       "      <th>LAYPA</th>\n",
       "      <td>47</td>\n",
       "    </tr>\n",
       "    <tr>\n",
       "      <th>OJOBU</th>\n",
       "      <td>68</td>\n",
       "    </tr>\n",
       "    <tr>\n",
       "      <th>QOQTS</th>\n",
       "      <td>116</td>\n",
       "    </tr>\n",
       "    <tr>\n",
       "      <th>UAGPU</th>\n",
       "      <td>71</td>\n",
       "    </tr>\n",
       "    <tr>\n",
       "      <th>UKPGS</th>\n",
       "      <td>102</td>\n",
       "    </tr>\n",
       "    <tr>\n",
       "      <th>UUUQX</th>\n",
       "      <td>63</td>\n",
       "    </tr>\n",
       "    <tr>\n",
       "      <th>VHDHF</th>\n",
       "      <td>39</td>\n",
       "    </tr>\n",
       "    <tr>\n",
       "      <th>VKWQH</th>\n",
       "      <td>81</td>\n",
       "    </tr>\n",
       "    <tr>\n",
       "      <th>VVTVA</th>\n",
       "      <td>92</td>\n",
       "    </tr>\n",
       "    <tr>\n",
       "      <th>ZMNYA</th>\n",
       "      <td>47</td>\n",
       "    </tr>\n",
       "    <tr>\n",
       "      <th>ZOWMK</th>\n",
       "      <td>97</td>\n",
       "    </tr>\n",
       "  </tbody>\n",
       "</table>\n",
       "</div>"
      ],
      "text/plain": [
       "        classroom\n",
       "school           \n",
       "ANKYI          34\n",
       "CCAAW          87\n",
       "CIMBB          62\n",
       "CUQAM          80\n",
       "DNQDD          94\n",
       "FBUMG          39\n",
       "GJJHK          92\n",
       "GOKXL          53\n",
       "GOOBU         133\n",
       "IDGFP          79\n",
       "KFZMY          42\n",
       "KZKKE          88\n",
       "LAYPA          47\n",
       "OJOBU          68\n",
       "QOQTS         116\n",
       "UAGPU          71\n",
       "UKPGS         102\n",
       "UUUQX          63\n",
       "VHDHF          39\n",
       "VKWQH          81\n",
       "VVTVA          92\n",
       "ZMNYA          47\n",
       "ZOWMK          97"
      ]
     },
     "execution_count": 56,
     "metadata": {},
     "output_type": "execute_result"
    }
   ],
   "source": [
    "data[['school','classroom']].groupby(['school']).count()"
   ]
  },
  {
   "cell_type": "code",
   "execution_count": 15,
   "metadata": {},
   "outputs": [
    {
     "data": {
      "text/html": [
       "<div>\n",
       "<style scoped>\n",
       "    .dataframe tbody tr th:only-of-type {\n",
       "        vertical-align: middle;\n",
       "    }\n",
       "\n",
       "    .dataframe tbody tr th {\n",
       "        vertical-align: top;\n",
       "    }\n",
       "\n",
       "    .dataframe thead th {\n",
       "        text-align: right;\n",
       "    }\n",
       "</style>\n",
       "<table border=\"1\" class=\"dataframe\">\n",
       "  <thead>\n",
       "    <tr style=\"text-align: right;\">\n",
       "      <th></th>\n",
       "      <th>school</th>\n",
       "      <th>n_student</th>\n",
       "    </tr>\n",
       "  </thead>\n",
       "  <tbody>\n",
       "    <tr>\n",
       "      <th>0</th>\n",
       "      <td>ANKYI</td>\n",
       "      <td>20.558824</td>\n",
       "    </tr>\n",
       "    <tr>\n",
       "      <th>1</th>\n",
       "      <td>CCAAW</td>\n",
       "      <td>18.528736</td>\n",
       "    </tr>\n",
       "    <tr>\n",
       "      <th>2</th>\n",
       "      <td>CIMBB</td>\n",
       "      <td>18.677419</td>\n",
       "    </tr>\n",
       "    <tr>\n",
       "      <th>3</th>\n",
       "      <td>CUQAM</td>\n",
       "      <td>26.862500</td>\n",
       "    </tr>\n",
       "    <tr>\n",
       "      <th>4</th>\n",
       "      <td>DNQDD</td>\n",
       "      <td>24.925532</td>\n",
       "    </tr>\n",
       "    <tr>\n",
       "      <th>5</th>\n",
       "      <td>FBUMG</td>\n",
       "      <td>15.435897</td>\n",
       "    </tr>\n",
       "    <tr>\n",
       "      <th>6</th>\n",
       "      <td>GJJHK</td>\n",
       "      <td>23.989130</td>\n",
       "    </tr>\n",
       "    <tr>\n",
       "      <th>7</th>\n",
       "      <td>GOKXL</td>\n",
       "      <td>21.509434</td>\n",
       "    </tr>\n",
       "    <tr>\n",
       "      <th>8</th>\n",
       "      <td>GOOBU</td>\n",
       "      <td>26.646617</td>\n",
       "    </tr>\n",
       "    <tr>\n",
       "      <th>9</th>\n",
       "      <td>IDGFP</td>\n",
       "      <td>18.949367</td>\n",
       "    </tr>\n",
       "    <tr>\n",
       "      <th>10</th>\n",
       "      <td>KFZMY</td>\n",
       "      <td>26.047619</td>\n",
       "    </tr>\n",
       "    <tr>\n",
       "      <th>11</th>\n",
       "      <td>KZKKE</td>\n",
       "      <td>22.181818</td>\n",
       "    </tr>\n",
       "    <tr>\n",
       "      <th>12</th>\n",
       "      <td>LAYPA</td>\n",
       "      <td>19.127660</td>\n",
       "    </tr>\n",
       "    <tr>\n",
       "      <th>13</th>\n",
       "      <td>OJOBU</td>\n",
       "      <td>20.485294</td>\n",
       "    </tr>\n",
       "    <tr>\n",
       "      <th>14</th>\n",
       "      <td>QOQTS</td>\n",
       "      <td>25.034483</td>\n",
       "    </tr>\n",
       "    <tr>\n",
       "      <th>15</th>\n",
       "      <td>UAGPU</td>\n",
       "      <td>21.802817</td>\n",
       "    </tr>\n",
       "    <tr>\n",
       "      <th>16</th>\n",
       "      <td>UKPGS</td>\n",
       "      <td>21.725490</td>\n",
       "    </tr>\n",
       "    <tr>\n",
       "      <th>17</th>\n",
       "      <td>UUUQX</td>\n",
       "      <td>16.904762</td>\n",
       "    </tr>\n",
       "    <tr>\n",
       "      <th>18</th>\n",
       "      <td>VHDHF</td>\n",
       "      <td>17.179487</td>\n",
       "    </tr>\n",
       "    <tr>\n",
       "      <th>19</th>\n",
       "      <td>VKWQH</td>\n",
       "      <td>20.074074</td>\n",
       "    </tr>\n",
       "    <tr>\n",
       "      <th>20</th>\n",
       "      <td>VVTVA</td>\n",
       "      <td>28.717391</td>\n",
       "    </tr>\n",
       "    <tr>\n",
       "      <th>21</th>\n",
       "      <td>ZMNYA</td>\n",
       "      <td>22.936170</td>\n",
       "    </tr>\n",
       "    <tr>\n",
       "      <th>22</th>\n",
       "      <td>ZOWMK</td>\n",
       "      <td>29.381443</td>\n",
       "    </tr>\n",
       "  </tbody>\n",
       "</table>\n",
       "</div>"
      ],
      "text/plain": [
       "   school  n_student\n",
       "0   ANKYI  20.558824\n",
       "1   CCAAW  18.528736\n",
       "2   CIMBB  18.677419\n",
       "3   CUQAM  26.862500\n",
       "4   DNQDD  24.925532\n",
       "5   FBUMG  15.435897\n",
       "6   GJJHK  23.989130\n",
       "7   GOKXL  21.509434\n",
       "8   GOOBU  26.646617\n",
       "9   IDGFP  18.949367\n",
       "10  KFZMY  26.047619\n",
       "11  KZKKE  22.181818\n",
       "12  LAYPA  19.127660\n",
       "13  OJOBU  20.485294\n",
       "14  QOQTS  25.034483\n",
       "15  UAGPU  21.802817\n",
       "16  UKPGS  21.725490\n",
       "17  UUUQX  16.904762\n",
       "18  VHDHF  17.179487\n",
       "19  VKWQH  20.074074\n",
       "20  VVTVA  28.717391\n",
       "21  ZMNYA  22.936170\n",
       "22  ZOWMK  29.381443"
      ]
     },
     "execution_count": 15,
     "metadata": {},
     "output_type": "execute_result"
    }
   ],
   "source": [
    "data[['school','classroom','n_student']].groupby(['school'], as_index=False).mean()"
   ]
  },
  {
   "cell_type": "code",
   "execution_count": 53,
   "metadata": {},
   "outputs": [
    {
     "data": {
      "image/png": "[encoded data removed]",
      "text/plain": [
       "<Figure size 1008x432 with 1 Axes>"
      ]
     },
     "metadata": {
      "needs_background": "light"
     },
     "output_type": "display_data"
    }
   ],
   "source": [
    "plt.subplots(figsize=(14, 6))\n",
    "sns.barplot(data=data[['school','classroom','n_student']].groupby(['school'], as_index=False).mean(),\n",
    "            x='school', y='n_student').tick_params(labelsize=8.1)"
   ]
  },
  {
   "cell_type": "markdown",
   "metadata": {},
   "source": [
    "Pretest scores:"
   ]
  },
  {
   "cell_type": "code",
   "execution_count": 17,
   "metadata": {},
   "outputs": [
    {
     "data": {
      "image/png": "[encoded data removed]",
      "text/plain": [
       "<Figure size 1008x432 with 1 Axes>"
      ]
     },
     "metadata": {
      "needs_background": "light"
     },
     "output_type": "display_data"
    }
   ],
   "source": [
    "plt.subplots(figsize=(14, 6))\n",
    "sns.boxplot(data=data, x='school', y='pretest').tick_params(labelsize=8.1)"
   ]
  },
  {
   "cell_type": "markdown",
   "metadata": {},
   "source": [
    "UKPGS is the school with highest pretest average, and KZKKE with the lowest."
   ]
  },
  {
   "cell_type": "markdown",
   "metadata": {},
   "source": [
    "<h4>School setting</h4>"
   ]
  },
  {
   "cell_type": "markdown",
   "metadata": {},
   "source": [
    "Student population and gender distribution:"
   ]
  },
  {
   "cell_type": "code",
   "execution_count": 18,
   "metadata": {},
   "outputs": [
    {
     "data": {
      "text/plain": [
       "<matplotlib.axes._subplots.AxesSubplot at 0x2872d1938e0>"
      ]
     },
     "execution_count": 18,
     "metadata": {},
     "output_type": "execute_result"
    },
    {
     "data": {
      "image/png": "[encoded data removed]",
      "text/plain": [
       "<Figure size 432x288 with 1 Axes>"
      ]
     },
     "metadata": {
      "needs_background": "light"
     },
     "output_type": "display_data"
    }
   ],
   "source": [
    "sns.histplot(data, x='school_setting', hue='gender', multiple='dodge', shrink=.8)"
   ]
  },
  {
   "cell_type": "markdown",
   "metadata": {},
   "source": [
    "Pretest scores:"
   ]
  },
  {
   "cell_type": "code",
   "execution_count": 19,
   "metadata": {},
   "outputs": [
    {
     "data": {
      "text/plain": [
       "<matplotlib.axes._subplots.AxesSubplot at 0x2872d3321f0>"
      ]
     },
     "execution_count": 19,
     "metadata": {},
     "output_type": "execute_result"
    },
    {
     "data": {
      "image/png": "[encoded data removed]",
      "text/plain": [
       "<Figure size 432x288 with 1 Axes>"
      ]
     },
     "metadata": {
      "needs_background": "light"
     },
     "output_type": "display_data"
    }
   ],
   "source": [
    "sns.boxplot(data=data, x='school_setting', y='pretest')"
   ]
  },
  {
   "cell_type": "markdown",
   "metadata": {},
   "source": [
    "<h4>School type</h4>"
   ]
  },
  {
   "cell_type": "markdown",
   "metadata": {},
   "source": [
    "Student population and gender distribution:"
   ]
  },
  {
   "cell_type": "code",
   "execution_count": 21,
   "metadata": {},
   "outputs": [
    {
     "data": {
      "text/plain": [
       "<matplotlib.axes._subplots.AxesSubplot at 0x2872d3ea1c0>"
      ]
     },
     "execution_count": 21,
     "metadata": {},
     "output_type": "execute_result"
    },
    {
     "data": {
      "image/png": "[encoded data removed]",
      "text/plain": [
       "<Figure size 432x288 with 1 Axes>"
      ]
     },
     "metadata": {
      "needs_background": "light"
     },
     "output_type": "display_data"
    }
   ],
   "source": [
    "sns.histplot(data, x='school_type', hue='gender', multiple='dodge', shrink=.8)"
   ]
  },
  {
   "cell_type": "markdown",
   "metadata": {},
   "source": [
    "Pretest scores:"
   ]
  },
  {
   "cell_type": "code",
   "execution_count": 22,
   "metadata": {},
   "outputs": [
    {
     "data": {
      "text/plain": [
       "<matplotlib.axes._subplots.AxesSubplot at 0x2872d44b4c0>"
      ]
     },
     "execution_count": 22,
     "metadata": {},
     "output_type": "execute_result"
    },
    {
     "data": {
      "image/png": "[encoded data removed]",
      "text/plain": [
       "<Figure size 432x288 with 1 Axes>"
      ]
     },
     "metadata": {
      "needs_background": "light"
     },
     "output_type": "display_data"
    }
   ],
   "source": [
    "sns.boxplot(data=data, x='school_type', y='pretest')"
   ]
  },
  {
   "cell_type": "markdown",
   "metadata": {},
   "source": [
    "School setting - school type:"
   ]
  },
  {
   "cell_type": "code",
   "execution_count": 23,
   "metadata": {},
   "outputs": [
    {
     "data": {
      "text/plain": [
       "<matplotlib.axes._subplots.AxesSubplot at 0x2872ca03220>"
      ]
     },
     "execution_count": 23,
     "metadata": {},
     "output_type": "execute_result"
    },
    {
     "data": {
      "image/png": "[encoded data removed]",
      "text/plain": [
       "<Figure size 432x288 with 1 Axes>"
      ]
     },
     "metadata": {
      "needs_background": "light"
     },
     "output_type": "display_data"
    }
   ],
   "source": [
    "sns.histplot(data, x='school_type', hue='school_setting', multiple='dodge', shrink=.8)"
   ]
  },
  {
   "cell_type": "code",
   "execution_count": 24,
   "metadata": {},
   "outputs": [
    {
     "data": {
      "text/plain": [
       "<seaborn.axisgrid.FacetGrid at 0x2872d1b0f10>"
      ]
     },
     "execution_count": 24,
     "metadata": {},
     "output_type": "execute_result"
    },
    {
     "data": {
      "image/png": "[encoded data removed]",
      "text/plain": [
       "<Figure size 444.125x360 with 1 Axes>"
      ]
     },
     "metadata": {
      "needs_background": "light"
     },
     "output_type": "display_data"
    }
   ],
   "source": [
    "sns.catplot(data=data, x='school_type', y='pretest', hue='school_setting', alpha=0.7)"
   ]
  },
  {
   "cell_type": "markdown",
   "metadata": {},
   "source": [
    "<h4>Teaching method</h4>"
   ]
  },
  {
   "cell_type": "markdown",
   "metadata": {},
   "source": [
    "Student population and school setting: "
   ]
  },
  {
   "cell_type": "code",
   "execution_count": 25,
   "metadata": {},
   "outputs": [
    {
     "data": {
      "text/plain": [
       "<matplotlib.axes._subplots.AxesSubplot at 0x2872bcc9b50>"
      ]
     },
     "execution_count": 25,
     "metadata": {},
     "output_type": "execute_result"
    },
    {
     "data": {
      "image/png": "[encoded data removed]",
      "text/plain": [
       "<Figure size 432x288 with 1 Axes>"
      ]
     },
     "metadata": {
      "needs_background": "light"
     },
     "output_type": "display_data"
    }
   ],
   "source": [
    "sns.histplot(data, x='teaching_method', hue='school_setting', multiple='dodge', shrink=.8)"
   ]
  },
  {
   "cell_type": "markdown",
   "metadata": {},
   "source": [
    "Pretest scores:"
   ]
  },
  {
   "cell_type": "code",
   "execution_count": 26,
   "metadata": {},
   "outputs": [
    {
     "data": {
      "text/plain": [
       "<matplotlib.axes._subplots.AxesSubplot at 0x2872bf361c0>"
      ]
     },
     "execution_count": 26,
     "metadata": {},
     "output_type": "execute_result"
    },
    {
     "data": {
      "image/png": "[encoded data removed]",
      "text/plain": [
       "<Figure size 432x288 with 1 Axes>"
      ]
     },
     "metadata": {
      "needs_background": "light"
     },
     "output_type": "display_data"
    }
   ],
   "source": [
    "sns.boxplot(data=data, x='teaching_method', y='pretest')"
   ]
  },
  {
   "cell_type": "markdown",
   "metadata": {},
   "source": [
    "<h4>Lunch</h4>"
   ]
  },
  {
   "cell_type": "code",
   "execution_count": 27,
   "metadata": {},
   "outputs": [
    {
     "data": {
      "text/plain": [
       "Does not qualify                    967\n",
       "Qualifies for reduced/free lunch    739\n",
       "Name: lunch, dtype: int64"
      ]
     },
     "execution_count": 27,
     "metadata": {},
     "output_type": "execute_result"
    }
   ],
   "source": [
    "data.lunch.value_counts()"
   ]
  },
  {
   "cell_type": "markdown",
   "metadata": {},
   "source": [
    "Pretest scores (their correlation is -0.6):"
   ]
  },
  {
   "cell_type": "code",
   "execution_count": 28,
   "metadata": {},
   "outputs": [
    {
     "data": {
      "text/plain": [
       "<seaborn.axisgrid.FacetGrid at 0x2872cf1dd90>"
      ]
     },
     "execution_count": 28,
     "metadata": {},
     "output_type": "execute_result"
    },
    {
     "data": {
      "image/png": "[encoded data removed]",
      "text/plain": [
       "<Figure size 360x360 with 1 Axes>"
      ]
     },
     "metadata": {
      "needs_background": "light"
     },
     "output_type": "display_data"
    }
   ],
   "source": [
    "sns.catplot(data=data,x='lunch',y='pretest')"
   ]
  },
  {
   "cell_type": "markdown",
   "metadata": {},
   "source": [
    "Lunch - school type:"
   ]
  },
  {
   "cell_type": "code",
   "execution_count": 29,
   "metadata": {},
   "outputs": [
    {
     "data": {
      "text/plain": [
       "0.48691514670896113"
      ]
     },
     "execution_count": 29,
     "metadata": {},
     "output_type": "execute_result"
    }
   ],
   "source": [
    "data_public = data[data.school_type == 'Public']\n",
    "data_public[data_public.lunch == 'Qualifies for reduced/free lunch'].shape[0] / data_public.shape[0]"
   ]
  },
  {
   "cell_type": "code",
   "execution_count": 30,
   "metadata": {},
   "outputs": [
    {
     "data": {
      "text/plain": [
       "0.2808988764044944"
      ]
     },
     "execution_count": 30,
     "metadata": {},
     "output_type": "execute_result"
    }
   ],
   "source": [
    "data_non_public = data[data.school_type == 'Non-public']\n",
    "data_non_public[data_non_public.lunch == 'Qualifies for reduced/free lunch'].shape[0] / data_non_public.shape[0]"
   ]
  },
  {
   "cell_type": "markdown",
   "metadata": {},
   "source": [
    "In public schools, more students are qualified for reduced/free lunch. "
   ]
  },
  {
   "cell_type": "markdown",
   "metadata": {},
   "source": [
    "Lunch - school:"
   ]
  },
  {
   "cell_type": "code",
   "execution_count": 31,
   "metadata": {},
   "outputs": [
    {
     "data": {
      "text/plain": [
       "CIMBB    0.016129\n",
       "UAGPU    0.028169\n",
       "ANKYI    0.029412\n",
       "QOQTS    0.051724\n",
       "UUUQX    0.079365\n",
       "ZMNYA    0.106383\n",
       "VKWQH    0.111111\n",
       "OJOBU    0.117647\n",
       "CUQAM    0.125000\n",
       "FBUMG    0.282051\n",
       "CCAAW    0.471264\n",
       "DNQDD    0.648936\n",
       "KFZMY    0.785714\n",
       "GOKXL    0.811321\n",
       "VHDHF    0.846154\n",
       "GJJHK    0.869565\n",
       "GOOBU    0.917293\n",
       "ZOWMK    0.927835\n",
       "VVTVA    0.978261\n",
       "KZKKE    1.000000\n",
       "IDGFP         NaN\n",
       "LAYPA         NaN\n",
       "UKPGS         NaN\n",
       "Name: school, dtype: float64"
      ]
     },
     "execution_count": 31,
     "metadata": {},
     "output_type": "execute_result"
    }
   ],
   "source": [
    "lunch_percentage = data.school[data.lunch == 'Qualifies for reduced/free lunch'].value_counts() / data.school.value_counts()\n",
    "lunch_percentage.sort_values(ascending=True)"
   ]
  },
  {
   "cell_type": "markdown",
   "metadata": {},
   "source": [
    "Every student in KZKKE qualifies for reduced/free lunch. In IDGFP, LAYPA and UKPGS, no one qualifies."
   ]
  },
  {
   "cell_type": "markdown",
   "metadata": {},
   "source": [
    "<h3>Preprocessing & Correlation</h3>"
   ]
  },
  {
   "cell_type": "code",
   "execution_count": 60,
   "metadata": {},
   "outputs": [
    {
     "data": {
      "text/html": [
       "<div>\n",
       "<style scoped>\n",
       "    .dataframe tbody tr th:only-of-type {\n",
       "        vertical-align: middle;\n",
       "    }\n",
       "\n",
       "    .dataframe tbody tr th {\n",
       "        vertical-align: top;\n",
       "    }\n",
       "\n",
       "    .dataframe thead th {\n",
       "        text-align: right;\n",
       "    }\n",
       "</style>\n",
       "<table border=\"1\" class=\"dataframe\">\n",
       "  <thead>\n",
       "    <tr style=\"text-align: right;\">\n",
       "      <th></th>\n",
       "      <th>school</th>\n",
       "      <th>school_setting</th>\n",
       "      <th>school_type</th>\n",
       "      <th>classroom</th>\n",
       "      <th>teaching_method</th>\n",
       "      <th>n_student</th>\n",
       "      <th>gender</th>\n",
       "      <th>lunch</th>\n",
       "      <th>pretest</th>\n",
       "      <th>posttest</th>\n",
       "    </tr>\n",
       "  </thead>\n",
       "  <tbody>\n",
       "    <tr>\n",
       "      <th>school</th>\n",
       "      <td>1.000000</td>\n",
       "      <td>-0.074340</td>\n",
       "      <td>0.346561</td>\n",
       "      <td>-0.045490</td>\n",
       "      <td>-0.034964</td>\n",
       "      <td>0.193878</td>\n",
       "      <td>-0.018116</td>\n",
       "      <td>0.015428</td>\n",
       "      <td>-0.136865</td>\n",
       "      <td>-0.131260</td>\n",
       "    </tr>\n",
       "    <tr>\n",
       "      <th>school_setting</th>\n",
       "      <td>-0.074340</td>\n",
       "      <td>1.000000</td>\n",
       "      <td>-0.092741</td>\n",
       "      <td>0.087504</td>\n",
       "      <td>0.080964</td>\n",
       "      <td>0.508851</td>\n",
       "      <td>-0.042170</td>\n",
       "      <td>0.033126</td>\n",
       "      <td>-0.127714</td>\n",
       "      <td>-0.140112</td>\n",
       "    </tr>\n",
       "    <tr>\n",
       "      <th>school_type</th>\n",
       "      <td>0.346561</td>\n",
       "      <td>-0.092741</td>\n",
       "      <td>1.000000</td>\n",
       "      <td>0.125726</td>\n",
       "      <td>0.146856</td>\n",
       "      <td>0.546491</td>\n",
       "      <td>0.038370</td>\n",
       "      <td>0.182559</td>\n",
       "      <td>-0.373849</td>\n",
       "      <td>-0.384872</td>\n",
       "    </tr>\n",
       "    <tr>\n",
       "      <th>classroom</th>\n",
       "      <td>-0.045490</td>\n",
       "      <td>0.087504</td>\n",
       "      <td>0.125726</td>\n",
       "      <td>1.000000</td>\n",
       "      <td>-0.017315</td>\n",
       "      <td>0.030723</td>\n",
       "      <td>-0.001379</td>\n",
       "      <td>0.118836</td>\n",
       "      <td>-0.038820</td>\n",
       "      <td>-0.030374</td>\n",
       "    </tr>\n",
       "    <tr>\n",
       "      <th>teaching_method</th>\n",
       "      <td>-0.034964</td>\n",
       "      <td>0.080964</td>\n",
       "      <td>0.146856</td>\n",
       "      <td>-0.017315</td>\n",
       "      <td>1.000000</td>\n",
       "      <td>0.099133</td>\n",
       "      <td>-0.026374</td>\n",
       "      <td>0.017144</td>\n",
       "      <td>-0.104682</td>\n",
       "      <td>-0.303531</td>\n",
       "    </tr>\n",
       "    <tr>\n",
       "      <th>n_student</th>\n",
       "      <td>0.193878</td>\n",
       "      <td>0.508851</td>\n",
       "      <td>0.546491</td>\n",
       "      <td>0.030723</td>\n",
       "      <td>0.099133</td>\n",
       "      <td>1.000000</td>\n",
       "      <td>-0.006997</td>\n",
       "      <td>0.379997</td>\n",
       "      <td>-0.507837</td>\n",
       "      <td>-0.510815</td>\n",
       "    </tr>\n",
       "    <tr>\n",
       "      <th>gender</th>\n",
       "      <td>-0.018116</td>\n",
       "      <td>-0.042170</td>\n",
       "      <td>0.038370</td>\n",
       "      <td>-0.001379</td>\n",
       "      <td>-0.026374</td>\n",
       "      <td>-0.006997</td>\n",
       "      <td>1.000000</td>\n",
       "      <td>-0.005447</td>\n",
       "      <td>-0.013778</td>\n",
       "      <td>-0.011365</td>\n",
       "    </tr>\n",
       "    <tr>\n",
       "      <th>lunch</th>\n",
       "      <td>0.015428</td>\n",
       "      <td>0.033126</td>\n",
       "      <td>0.182559</td>\n",
       "      <td>0.118836</td>\n",
       "      <td>0.017144</td>\n",
       "      <td>0.379997</td>\n",
       "      <td>-0.005447</td>\n",
       "      <td>1.000000</td>\n",
       "      <td>-0.621263</td>\n",
       "      <td>-0.600968</td>\n",
       "    </tr>\n",
       "    <tr>\n",
       "      <th>pretest</th>\n",
       "      <td>-0.136865</td>\n",
       "      <td>-0.127714</td>\n",
       "      <td>-0.373849</td>\n",
       "      <td>-0.038820</td>\n",
       "      <td>-0.104682</td>\n",
       "      <td>-0.507837</td>\n",
       "      <td>-0.013778</td>\n",
       "      <td>-0.621263</td>\n",
       "      <td>1.000000</td>\n",
       "      <td>0.950628</td>\n",
       "    </tr>\n",
       "    <tr>\n",
       "      <th>posttest</th>\n",
       "      <td>-0.131260</td>\n",
       "      <td>-0.140112</td>\n",
       "      <td>-0.384872</td>\n",
       "      <td>-0.030374</td>\n",
       "      <td>-0.303531</td>\n",
       "      <td>-0.510815</td>\n",
       "      <td>-0.011365</td>\n",
       "      <td>-0.600968</td>\n",
       "      <td>0.950628</td>\n",
       "      <td>1.000000</td>\n",
       "    </tr>\n",
       "  </tbody>\n",
       "</table>\n",
       "</div>"
      ],
      "text/plain": [
       "                   school  school_setting  school_type  classroom  \\\n",
       "school           1.000000       -0.074340     0.346561  -0.045490   \n",
       "school_setting  -0.074340        1.000000    -0.092741   0.087504   \n",
       "school_type      0.346561       -0.092741     1.000000   0.125726   \n",
       "classroom       -0.045490        0.087504     0.125726   1.000000   \n",
       "teaching_method -0.034964        0.080964     0.146856  -0.017315   \n",
       "n_student        0.193878        0.508851     0.546491   0.030723   \n",
       "gender          -0.018116       -0.042170     0.038370  -0.001379   \n",
       "lunch            0.015428        0.033126     0.182559   0.118836   \n",
       "pretest         -0.136865       -0.127714    -0.373849  -0.038820   \n",
       "posttest        -0.131260       -0.140112    -0.384872  -0.030374   \n",
       "\n",
       "                 teaching_method  n_student    gender     lunch   pretest  \\\n",
       "school                 -0.034964   0.193878 -0.018116  0.015428 -0.136865   \n",
       "school_setting          0.080964   0.508851 -0.042170  0.033126 -0.127714   \n",
       "school_type             0.146856   0.546491  0.038370  0.182559 -0.373849   \n",
       "classroom              -0.017315   0.030723 -0.001379  0.118836 -0.038820   \n",
       "teaching_method         1.000000   0.099133 -0.026374  0.017144 -0.104682   \n",
       "n_student               0.099133   1.000000 -0.006997  0.379997 -0.507837   \n",
       "gender                 -0.026374  -0.006997  1.000000 -0.005447 -0.013778   \n",
       "lunch                   0.017144   0.379997 -0.005447  1.000000 -0.621263   \n",
       "pretest                -0.104682  -0.507837 -0.013778 -0.621263  1.000000   \n",
       "posttest               -0.303531  -0.510815 -0.011365 -0.600968  0.950628   \n",
       "\n",
       "                 posttest  \n",
       "school          -0.131260  \n",
       "school_setting  -0.140112  \n",
       "school_type     -0.384872  \n",
       "classroom       -0.030374  \n",
       "teaching_method -0.303531  \n",
       "n_student       -0.510815  \n",
       "gender          -0.011365  \n",
       "lunch           -0.600968  \n",
       "pretest          0.950628  \n",
       "posttest         1.000000  "
      ]
     },
     "execution_count": 60,
     "metadata": {},
     "output_type": "execute_result"
    }
   ],
   "source": [
    "data_encode = data.copy()\n",
    "from sklearn.preprocessing import LabelEncoder\n",
    "le = LabelEncoder()\n",
    "data_encode.school = le.fit_transform(data_encode.school)\n",
    "data_encode.school_setting = le.fit_transform(data_encode.school_setting)\n",
    "data_encode.school_type = le.fit_transform(data_encode.school_type)\n",
    "data_encode.classroom = le.fit_transform(data_encode.classroom)\n",
    "data_encode.teaching_method = le.fit_transform(data_encode.teaching_method)\n",
    "data_encode.gender = le.fit_transform(data_encode.gender)\n",
    "data_encode.lunch = le.fit_transform(data_encode.lunch)\n",
    "corr = data_encode.corr()\n",
    "corr"
   ]
  },
  {
   "cell_type": "code",
   "execution_count": 33,
   "metadata": {},
   "outputs": [
    {
     "data": {
      "text/plain": [
       "<matplotlib.axes._subplots.AxesSubplot at 0x2872ce127c0>"
      ]
     },
     "execution_count": 33,
     "metadata": {},
     "output_type": "execute_result"
    },
    {
     "data": {
      "image/png": "[encoded data removed]",
      "text/plain": [
       "<Figure size 432x288 with 2 Axes>"
      ]
     },
     "metadata": {
      "needs_background": "light"
     },
     "output_type": "display_data"
    }
   ],
   "source": [
    "sns.heatmap(corr)"
   ]
  },
  {
   "cell_type": "code",
   "execution_count": 34,
   "metadata": {},
   "outputs": [],
   "source": [
    "test_encode = data_test.copy()\n",
    "from sklearn.preprocessing import LabelEncoder\n",
    "le = LabelEncoder()\n",
    "test_encode.school = le.fit_transform(test_encode.school)\n",
    "test_encode.school_setting = le.fit_transform(test_encode.school_setting)\n",
    "test_encode.school_type = le.fit_transform(test_encode.school_type)\n",
    "test_encode.classroom = le.fit_transform(test_encode.classroom)\n",
    "test_encode.teaching_method = le.fit_transform(test_encode.teaching_method)\n",
    "test_encode.gender = le.fit_transform(test_encode.gender)\n",
    "test_encode.lunch = le.fit_transform(test_encode.lunch)"
   ]
  },
  {
   "cell_type": "markdown",
   "metadata": {},
   "source": [
    "<h3>Building models</h3>"
   ]
  },
  {
   "cell_type": "code",
   "execution_count": 35,
   "metadata": {},
   "outputs": [],
   "source": [
    "from sklearn.pipeline import Pipeline\n",
    "from sklearn.preprocessing import MinMaxScaler, StandardScaler\n",
    "from sklearn.linear_model import LinearRegression, Ridge, Lasso\n",
    "from sklearn.svm import SVR\n",
    "from sklearn.neighbors import KNeighborsRegressor\n",
    "from sklearn.model_selection import GridSearchCV, cross_val_score\n",
    "from sklearn.metrics import r2_score"
   ]
  },
  {
   "cell_type": "code",
   "execution_count": 36,
   "metadata": {},
   "outputs": [],
   "source": [
    "y_train = data_encode.posttest\n",
    "X_train = data_encode.drop(['student_id','posttest'],axis=1)"
   ]
  },
  {
   "cell_type": "code",
   "execution_count": 37,
   "metadata": {},
   "outputs": [],
   "source": [
    "y_test = test_encode.posttest\n",
    "X_test = test_encode.drop(['student_id','posttest'],axis=1)"
   ]
  },
  {
   "cell_type": "markdown",
   "metadata": {},
   "source": [
    "<h4>Linear models</h4>"
   ]
  },
  {
   "cell_type": "code",
   "execution_count": 38,
   "metadata": {},
   "outputs": [
    {
     "data": {
      "text/plain": [
       "GridSearchCV(estimator=Pipeline(steps=[('scaler', MinMaxScaler()),\n",
       "                                       ('linear_model', LinearRegression())]),\n",
       "             param_grid=[{'linear_model': [LinearRegression()],\n",
       "                          'scaler': [MinMaxScaler(), StandardScaler(), None]},\n",
       "                         {'linear_model': [Ridge()],\n",
       "                          'linear_model__alpha': [0.001, 0.003, 0.01, 0.03, 0.1,\n",
       "                                                  0.3, 1, 3, 10, 30, 100, 300],\n",
       "                          'scaler': [MinMaxScaler(), StandardScaler(), None]},\n",
       "                         {'linear_model': [Lasso(alpha=0.03)],\n",
       "                          'linear_model__alpha': [0.001, 0.003, 0.01, 0.03, 0.1,\n",
       "                                                  0.3, 1, 3, 10, 30, 100, 300],\n",
       "                          'scaler': [MinMaxScaler(), StandardScaler(), None]}])"
      ]
     },
     "execution_count": 38,
     "metadata": {},
     "output_type": "execute_result"
    }
   ],
   "source": [
    "pipeline_linear = Pipeline([('scaler',MinMaxScaler()),('linear_model',LinearRegression())])\n",
    "param_grid_linear = [{'linear_model':[LinearRegression()],'scaler':[MinMaxScaler(),StandardScaler(),None]},\n",
    " {'linear_model':[Ridge()],'linear_model__alpha':[0.001,0.003,0.01,0.03,0.1,0.3,1,3,10,30,100,300],\n",
    "  'scaler':[MinMaxScaler(),StandardScaler(),None]},\n",
    " {'linear_model':[Lasso()],'linear_model__alpha':[0.001,0.003,0.01,0.03,0.1,0.3,1,3,10,30,100,300],\n",
    "  'scaler':[MinMaxScaler(),StandardScaler(),None]}]\n",
    "grid_linear = GridSearchCV(pipeline_linear, param_grid_linear)\n",
    "grid_linear.fit(X_train,y_train)"
   ]
  },
  {
   "cell_type": "code",
   "execution_count": 39,
   "metadata": {},
   "outputs": [
    {
     "data": {
      "text/plain": [
       "{'linear_model': Lasso(alpha=0.03),\n",
       " 'linear_model__alpha': 0.03,\n",
       " 'scaler': StandardScaler()}"
      ]
     },
     "execution_count": 39,
     "metadata": {},
     "output_type": "execute_result"
    }
   ],
   "source": [
    "grid_linear.best_params_"
   ]
  },
  {
   "cell_type": "code",
   "execution_count": 40,
   "metadata": {},
   "outputs": [
    {
     "data": {
      "text/plain": [
       "0.9461936395435497"
      ]
     },
     "execution_count": 40,
     "metadata": {},
     "output_type": "execute_result"
    }
   ],
   "source": [
    "grid_linear.best_score_"
   ]
  },
  {
   "cell_type": "markdown",
   "metadata": {},
   "source": [
    "Final evaluation:"
   ]
  },
  {
   "cell_type": "code",
   "execution_count": 41,
   "metadata": {},
   "outputs": [
    {
     "data": {
      "text/plain": [
       "0.9477447895645419"
      ]
     },
     "execution_count": 41,
     "metadata": {},
     "output_type": "execute_result"
    }
   ],
   "source": [
    "pred_linear = grid_linear.best_estimator_.predict(X_test)\n",
    "r2_score(y_test, pred_linear)"
   ]
  },
  {
   "cell_type": "markdown",
   "metadata": {},
   "source": [
    "Feature selection done by L1 regularization:"
   ]
  },
  {
   "cell_type": "code",
   "execution_count": 42,
   "metadata": {},
   "outputs": [
    {
     "data": {
      "text/html": [
       "<div>\n",
       "<style scoped>\n",
       "    .dataframe tbody tr th:only-of-type {\n",
       "        vertical-align: middle;\n",
       "    }\n",
       "\n",
       "    .dataframe tbody tr th {\n",
       "        vertical-align: top;\n",
       "    }\n",
       "\n",
       "    .dataframe thead th {\n",
       "        text-align: right;\n",
       "    }\n",
       "</style>\n",
       "<table border=\"1\" class=\"dataframe\">\n",
       "  <thead>\n",
       "    <tr style=\"text-align: right;\">\n",
       "      <th></th>\n",
       "      <th>feature</th>\n",
       "      <th>weight</th>\n",
       "    </tr>\n",
       "  </thead>\n",
       "  <tbody>\n",
       "    <tr>\n",
       "      <th>0</th>\n",
       "      <td>school</td>\n",
       "      <td>-0.129551</td>\n",
       "    </tr>\n",
       "    <tr>\n",
       "      <th>1</th>\n",
       "      <td>school_setting</td>\n",
       "      <td>0.000000</td>\n",
       "    </tr>\n",
       "    <tr>\n",
       "      <th>2</th>\n",
       "      <td>school_type</td>\n",
       "      <td>-0.000000</td>\n",
       "    </tr>\n",
       "    <tr>\n",
       "      <th>3</th>\n",
       "      <td>classroom</td>\n",
       "      <td>0.036298</td>\n",
       "    </tr>\n",
       "    <tr>\n",
       "      <th>4</th>\n",
       "      <td>teaching_method</td>\n",
       "      <td>-2.871257</td>\n",
       "    </tr>\n",
       "    <tr>\n",
       "      <th>5</th>\n",
       "      <td>n_student</td>\n",
       "      <td>-0.272238</td>\n",
       "    </tr>\n",
       "    <tr>\n",
       "      <th>6</th>\n",
       "      <td>gender</td>\n",
       "      <td>-0.038489</td>\n",
       "    </tr>\n",
       "    <tr>\n",
       "      <th>7</th>\n",
       "      <td>lunch</td>\n",
       "      <td>-0.434427</td>\n",
       "    </tr>\n",
       "    <tr>\n",
       "      <th>8</th>\n",
       "      <td>pretest</td>\n",
       "      <td>12.531786</td>\n",
       "    </tr>\n",
       "  </tbody>\n",
       "</table>\n",
       "</div>"
      ],
      "text/plain": [
       "           feature     weight\n",
       "0           school  -0.129551\n",
       "1   school_setting   0.000000\n",
       "2      school_type  -0.000000\n",
       "3        classroom   0.036298\n",
       "4  teaching_method  -2.871257\n",
       "5        n_student  -0.272238\n",
       "6           gender  -0.038489\n",
       "7            lunch  -0.434427\n",
       "8          pretest  12.531786"
      ]
     },
     "execution_count": 42,
     "metadata": {},
     "output_type": "execute_result"
    }
   ],
   "source": [
    "weights = grid_linear.best_estimator_.named_steps['linear_model'].coef_\n",
    "lasso_weights = pd.DataFrame({'feature':X_train.columns.to_list(),'weight':weights})\n",
    "lasso_weights"
   ]
  },
  {
   "cell_type": "markdown",
   "metadata": {},
   "source": [
    "<h4>SVM</h4>"
   ]
  },
  {
   "cell_type": "code",
   "execution_count": 43,
   "metadata": {},
   "outputs": [
    {
     "data": {
      "text/plain": [
       "GridSearchCV(estimator=Pipeline(steps=[('scaler', MinMaxScaler()),\n",
       "                                       ('svm', SVR())]),\n",
       "             param_grid={'scaler': [MinMaxScaler(), StandardScaler(), None],\n",
       "                         'svm__C': [0.001, 0.003, 0.01, 0.03, 0.1, 0.3, 1, 3,\n",
       "                                    10, 30, 100, 300],\n",
       "                         'svm__gamma': [0.001, 0.003, 0.01, 0.03, 0.1, 0.3, 0,\n",
       "                                        1, 3, 10, 30, 100, 300]})"
      ]
     },
     "execution_count": 43,
     "metadata": {},
     "output_type": "execute_result"
    }
   ],
   "source": [
    "pipeline_svm = Pipeline([('scaler',MinMaxScaler()),('svm',SVR())])\n",
    "param_grid_svm = {'scaler':[MinMaxScaler(),StandardScaler(),None],'svm__C':[0.001,0.003,0.01,0.03,0.1,0.3,1,3,10,30,100,300],\n",
    "                 'svm__gamma':[0.001,0.003,0.01,0.03,0.1,0.3,0,1,3,10,30,100,300]}\n",
    "grid_svm = GridSearchCV(pipeline_svm, param_grid_svm)\n",
    "grid_svm.fit(X_train, y_train)"
   ]
  },
  {
   "cell_type": "code",
   "execution_count": 44,
   "metadata": {},
   "outputs": [
    {
     "data": {
      "text/plain": [
       "{'scaler': None, 'svm__C': 300, 'svm__gamma': 0.003}"
      ]
     },
     "execution_count": 44,
     "metadata": {},
     "output_type": "execute_result"
    }
   ],
   "source": [
    "grid_svm.best_params_"
   ]
  },
  {
   "cell_type": "code",
   "execution_count": 45,
   "metadata": {},
   "outputs": [
    {
     "data": {
      "text/plain": [
       "0.9498516349548858"
      ]
     },
     "execution_count": 45,
     "metadata": {},
     "output_type": "execute_result"
    }
   ],
   "source": [
    "grid_svm.best_score_"
   ]
  },
  {
   "cell_type": "markdown",
   "metadata": {},
   "source": [
    "Final evaluation:"
   ]
  },
  {
   "cell_type": "code",
   "execution_count": 46,
   "metadata": {},
   "outputs": [
    {
     "data": {
      "text/plain": [
       "0.9476533046499502"
      ]
     },
     "execution_count": 46,
     "metadata": {},
     "output_type": "execute_result"
    }
   ],
   "source": [
    "pred_svm = grid_svm.best_estimator_.predict(X_test)\n",
    "r2_score(y_test, pred_svm)"
   ]
  },
  {
   "cell_type": "markdown",
   "metadata": {},
   "source": [
    "<h4>k-Nearest Neighbors</h4>"
   ]
  },
  {
   "cell_type": "code",
   "execution_count": 47,
   "metadata": {},
   "outputs": [
    {
     "data": {
      "text/plain": [
       "GridSearchCV(estimator=Pipeline(steps=[('scaler', MinMaxScaler()),\n",
       "                                       ('knn', KNeighborsRegressor())]),\n",
       "             param_grid={'knn__n_neighbors': [5, 10, 15, 20, 25, 50, 100],\n",
       "                         'scaler': [MinMaxScaler(), StandardScaler(), None]})"
      ]
     },
     "execution_count": 47,
     "metadata": {},
     "output_type": "execute_result"
    }
   ],
   "source": [
    "pipeline_knn = Pipeline([('scaler',MinMaxScaler()),('knn',KNeighborsRegressor())])\n",
    "param_grid_knn = {'scaler':[MinMaxScaler(),StandardScaler(),None],\n",
    "                  'knn__n_neighbors':[5,10,15,20,25,50,100]}\n",
    "grid_knn = GridSearchCV(pipeline_knn, param_grid_knn)\n",
    "grid_knn.fit(X_train, y_train)"
   ]
  },
  {
   "cell_type": "code",
   "execution_count": 48,
   "metadata": {},
   "outputs": [
    {
     "data": {
      "text/plain": [
       "{'knn__n_neighbors': 5, 'scaler': None}"
      ]
     },
     "execution_count": 48,
     "metadata": {},
     "output_type": "execute_result"
    }
   ],
   "source": [
    "grid_knn.best_params_"
   ]
  },
  {
   "cell_type": "code",
   "execution_count": 49,
   "metadata": {},
   "outputs": [
    {
     "data": {
      "text/plain": [
       "0.9479798094332184"
      ]
     },
     "execution_count": 49,
     "metadata": {},
     "output_type": "execute_result"
    }
   ],
   "source": [
    "grid_knn.best_score_"
   ]
  },
  {
   "cell_type": "markdown",
   "metadata": {},
   "source": [
    "Final evaluation:"
   ]
  },
  {
   "cell_type": "code",
   "execution_count": 50,
   "metadata": {},
   "outputs": [
    {
     "data": {
      "text/plain": [
       "0.9460243281196146"
      ]
     },
     "execution_count": 50,
     "metadata": {},
     "output_type": "execute_result"
    }
   ],
   "source": [
    "pred_knn = grid_knn.best_estimator_.predict(X_test)\n",
    "r2_score(y_test, pred_knn)"
   ]
  }
 ],
 "metadata": {
  "kernelspec": {
   "display_name": "Python 3",
   "language": "python",
   "name": "python3"
  },
  "language_info": {
   "codemirror_mode": {
    "name": "ipython",
    "version": 3
   },
   "file_extension": ".py",
   "mimetype": "text/x-python",
   "name": "python",
   "nbconvert_exporter": "python",
   "pygments_lexer": "ipython3",
   "version": "3.8.3"
  }
 },
 "nbformat": 4,
 "nbformat_minor": 4
}
